{
  "nbformat": 4,
  "nbformat_minor": 0,
  "metadata": {
    "colab": {
      "name": "Springboard Decision Tree Specialty Coffee Case Study - Tier 3.ipynb",
      "provenance": [],
      "collapsed_sections": [],
      "toc_visible": true,
      "include_colab_link": true
    },
    "kernelspec": {
      "display_name": "Python 3",
      "language": "python",
      "name": "python3"
    },
    "language_info": {
      "codemirror_mode": {
        "name": "ipython",
        "version": 3
      },
      "file_extension": ".py",
      "mimetype": "text/x-python",
      "name": "python",
      "nbconvert_exporter": "python",
      "pygments_lexer": "ipython3",
      "version": "3.7.3"
    }
  },
  "cells": [
    {
      "cell_type": "markdown",
      "metadata": {
        "id": "view-in-github",
        "colab_type": "text"
      },
      "source": [
        "<a href=\"https://colab.research.google.com/github/allen44/case-study-logistic-regression/blob/main/Springboard_Decision_Tree_Specialty_Coffee_Case_Study_Tier_3.ipynb\" target=\"_parent\"><img src=\"https://colab.research.google.com/assets/colab-badge.svg\" alt=\"Open In Colab\"/></a>"
      ]
    },
    {
      "cell_type": "markdown",
      "metadata": {
        "id": "Jm0w3zN4DuVK"
      },
      "source": [
        "# **Springboard Decision Tree Specialty Coffee Case Study - Tier 3**\n",
        "\n",
        "\n"
      ]
    },
    {
      "cell_type": "markdown",
      "metadata": {
        "id": "BhqpAY7GDuVN"
      },
      "source": [
        "# The Scenario\n",
        "\n",
        "Imagine you've just finished the Springboard Data Science Career Track course, and have been hired by a rising popular specialty coffee company - RR Diner Coffee - as a data scientist. Congratulations!\n",
        "\n",
        "RR Diner Coffee sells two types of thing:\n",
        "- specialty coffee beans, in bulk (by the kilogram only) \n",
        "- coffee equipment and merchandise (grinders, brewing equipment, mugs, books, t-shirts).\n",
        "\n",
        "RR Diner Coffee has three stores, two in Europe and one in the USA. The flagshap store is in the USA, and everything is quality assessed there, before being shipped out. Customers further away from the USA flagship store have higher shipping charges. \n",
        "\n",
        "You've been taken on at RR Diner Coffee because the company are turning towards using data science and machine learning to systematically make decisions about which coffee farmers they should strike deals with. \n",
        "\n",
        "RR Diner Coffee typically buys coffee from farmers, processes it on site, brings it back to the USA, roasts it, packages it, markets it, and ships it (only in bulk, and after quality assurance) to customers internationally. These customers all own coffee shops in major cities like New York, Paris, London, Hong Kong, Tokyo, and Berlin. \n",
        "\n",
        "Now, RR Diner Coffee has a decision about whether to strike a deal with a legendary coffee farm (known as the **Hidden Farm**) in rural China: there are rumours their coffee tastes of lychee and dark chocolate, while also being as sweet as apple juice. \n",
        "\n",
        "It's a risky decision, as the deal will be expensive, and the coffee might not be bought by customers. The stakes are high: times are tough, stocks are low, farmers are reverting to old deals with the larger enterprises and the publicity of selling *Hidden Farm* coffee could save the RR Diner Coffee business. \n",
        "\n",
        "Your first job, then, is ***to build a decision tree to predict how many units of the Hidden Farm Chinese coffee will be purchased by RR Diner Coffee's most loyal customers.*** \n",
        "\n",
        "To this end, you and your team have conducted a survey of 710 of the most loyal RR Diner Coffee customers, collecting data on the customers':\n",
        "- age\n",
        "- gender \n",
        "- salary \n",
        "- whether they have bought at least one RR Diner Coffee product online\n",
        "- their distance from the flagship store in the USA (standardized to a number between 0 and 11) \n",
        "- how much they spent on RR Diner Coffee products on the week of the survey \n",
        "- how much they spent on RR Diner Coffee products in the month preeding the survey\n",
        "- the number of RR Diner coffee bean shipments each customer has ordered over the preceding year. \n",
        "\n",
        "You also asked each customer participating in the survey whether they would buy the Hidden Farm coffee, and some (but not all) of the customers gave responses to that question. \n",
        "\n",
        "You sit back and think: if more than 70% of the interviewed customers are likely to buy the Hidden Farm coffee, you will strike the deal with the local Hidden Farm farmers and sell the coffee. Otherwise, you won't strike the deal and the Hidden Farm coffee will remain in legends only. There's some doubt in your mind about whether 70% is a reasonable threshold, but it'll do for the moment. \n",
        "\n",
        "To solve the problem, then, you will build a decision tree to implement a classification solution. \n",
        "\n",
        "\n",
        "-------------------------------\n",
        "As ever, this notebook is **tiered**, meaning you can elect that tier that is right for your confidence and skill level. There are 3 tiers, with tier 1 being the easiest and tier 3 being the hardest. This is ***tier 3***, so it will be challenging. \n",
        "\n",
        "**1. Sourcing and loading** \n",
        "- Import packages\n",
        "- Load data\n",
        "- Explore the data\n",
        "\n",
        " \n",
        "**2. Cleaning, transforming and visualizing**\n",
        "- Cleaning the data\n",
        "- Train/test split\n",
        "  \n",
        "  \n",
        "**3. Modelling** \n",
        "- Model 1: Entropy model - no max_depth\n",
        "- Model 2: Gini impurity model - no max_depth\n",
        "- Model 3: Entropy model - max depth 3\n",
        "- Model 4: Gini impurity model - max depth 3\n",
        "\n",
        "\n",
        "**4. Evaluating and concluding** \n",
        "- How many customers will buy Hidden Farm coffee?\n",
        "- Decision\n",
        "\n",
        "**5. Random Forest** \n",
        "- Import necessary modules\n",
        "- Model\n",
        "- Revise conclusion\n",
        "    "
      ]
    },
    {
      "cell_type": "markdown",
      "metadata": {
        "id": "nciXGXtCDuVO"
      },
      "source": [
        "# 0. Overview\n",
        "\n",
        "This notebook uses decision trees to determine whether the factors of salary, gender, age, how much money the customer spent last week and during the preceding month on RR Diner Coffee products, how many kilogram coffee bags the customer bought over the last year, whether they have bought at least one RR Diner Coffee product online, and their distance from the flagship store in the USA, could predict whether customers would purchase the Hidden Farm coffee if a deal with its farmers were struck. "
      ]
    },
    {
      "cell_type": "markdown",
      "metadata": {
        "id": "5fSgD2h9DuVP"
      },
      "source": [
        "# 1. Sourcing and loading\n",
        "## 1a. Import Packages"
      ]
    },
    {
      "cell_type": "code",
      "metadata": {
        "id": "CfGkTcLvDuVQ"
      },
      "source": [
        "import pandas as pd\n",
        "import numpy as np\n",
        "from sklearn import tree, metrics\n",
        "from sklearn.model_selection import train_test_split\n",
        "import seaborn as sns\n",
        "import matplotlib.pyplot as plt\n",
        "from io import StringIO  \n",
        "from IPython.display import Image  \n",
        "import pydotplus"
      ],
      "execution_count": 1,
      "outputs": []
    },
    {
      "cell_type": "markdown",
      "metadata": {
        "id": "ZLgxyhNrDuVT"
      },
      "source": [
        "## 1b. Load data "
      ]
    },
    {
      "cell_type": "code",
      "metadata": {
        "id": "chW2ozlnDuVU"
      },
      "source": [
        "# Read in the data to a variable called coffeeData\n",
        "coffeeData = pd.read_csv('https://raw.githubusercontent.com/allen44/case-study-decision-tree/main/data/RRDinerCoffeeData.csv')"
      ],
      "execution_count": 2,
      "outputs": []
    },
    {
      "cell_type": "markdown",
      "metadata": {
        "id": "qnMVYf2NDuVW"
      },
      "source": [
        "## 1c. Explore the data"
      ]
    },
    {
      "cell_type": "markdown",
      "metadata": {
        "id": "U5Qm4obyDuVX"
      },
      "source": [
        "As we've seen, exploration entails doing things like checking out the **initial appearance** of the data with head(), the **dimensions** of our data with .shape, the **data types** of the variables with .info(), the **number of non-null values**, how much **memory** is being used to store the data, and finally the major summary statistcs capturing **central tendancy, dispersion and the null-excluding shape of the dataset's distribution**. \n",
        "\n",
        "How much of this can you do yourself by this point in the course? Have a real go. "
      ]
    },
    {
      "cell_type": "code",
      "metadata": {
        "id": "cHEKFT4SDuVY",
        "colab": {
          "base_uri": "https://localhost:8080/",
          "height": 204
        },
        "outputId": "09215a1d-b6a2-45c5-da8a-11f645bc000d"
      },
      "source": [
        "# Call head() on your data \n",
        "coffeeData.head()"
      ],
      "execution_count": 3,
      "outputs": [
        {
          "output_type": "execute_result",
          "data": {
            "text/html": [
              "<div>\n",
              "<style scoped>\n",
              "    .dataframe tbody tr th:only-of-type {\n",
              "        vertical-align: middle;\n",
              "    }\n",
              "\n",
              "    .dataframe tbody tr th {\n",
              "        vertical-align: top;\n",
              "    }\n",
              "\n",
              "    .dataframe thead th {\n",
              "        text-align: right;\n",
              "    }\n",
              "</style>\n",
              "<table border=\"1\" class=\"dataframe\">\n",
              "  <thead>\n",
              "    <tr style=\"text-align: right;\">\n",
              "      <th></th>\n",
              "      <th>Age</th>\n",
              "      <th>Gender</th>\n",
              "      <th>num_coffeeBags_per_year</th>\n",
              "      <th>spent_week</th>\n",
              "      <th>spent_month</th>\n",
              "      <th>SlrAY</th>\n",
              "      <th>Distance</th>\n",
              "      <th>Online</th>\n",
              "      <th>Decision</th>\n",
              "    </tr>\n",
              "  </thead>\n",
              "  <tbody>\n",
              "    <tr>\n",
              "      <th>0</th>\n",
              "      <td>36</td>\n",
              "      <td>Female</td>\n",
              "      <td>0</td>\n",
              "      <td>24</td>\n",
              "      <td>73</td>\n",
              "      <td>42789</td>\n",
              "      <td>0.003168</td>\n",
              "      <td>0</td>\n",
              "      <td>1.0</td>\n",
              "    </tr>\n",
              "    <tr>\n",
              "      <th>1</th>\n",
              "      <td>24</td>\n",
              "      <td>Male</td>\n",
              "      <td>0</td>\n",
              "      <td>44</td>\n",
              "      <td>164</td>\n",
              "      <td>74035</td>\n",
              "      <td>0.520906</td>\n",
              "      <td>0</td>\n",
              "      <td>NaN</td>\n",
              "    </tr>\n",
              "    <tr>\n",
              "      <th>2</th>\n",
              "      <td>24</td>\n",
              "      <td>Male</td>\n",
              "      <td>0</td>\n",
              "      <td>39</td>\n",
              "      <td>119</td>\n",
              "      <td>30563</td>\n",
              "      <td>0.916005</td>\n",
              "      <td>1</td>\n",
              "      <td>1.0</td>\n",
              "    </tr>\n",
              "    <tr>\n",
              "      <th>3</th>\n",
              "      <td>20</td>\n",
              "      <td>Male</td>\n",
              "      <td>0</td>\n",
              "      <td>30</td>\n",
              "      <td>107</td>\n",
              "      <td>13166</td>\n",
              "      <td>0.932098</td>\n",
              "      <td>1</td>\n",
              "      <td>NaN</td>\n",
              "    </tr>\n",
              "    <tr>\n",
              "      <th>4</th>\n",
              "      <td>24</td>\n",
              "      <td>Female</td>\n",
              "      <td>0</td>\n",
              "      <td>20</td>\n",
              "      <td>36</td>\n",
              "      <td>14244</td>\n",
              "      <td>0.965881</td>\n",
              "      <td>0</td>\n",
              "      <td>1.0</td>\n",
              "    </tr>\n",
              "  </tbody>\n",
              "</table>\n",
              "</div>"
            ],
            "text/plain": [
              "   Age  Gender  num_coffeeBags_per_year  ...  Distance  Online  Decision\n",
              "0   36  Female                        0  ...  0.003168       0       1.0\n",
              "1   24    Male                        0  ...  0.520906       0       NaN\n",
              "2   24    Male                        0  ...  0.916005       1       1.0\n",
              "3   20    Male                        0  ...  0.932098       1       NaN\n",
              "4   24  Female                        0  ...  0.965881       0       1.0\n",
              "\n",
              "[5 rows x 9 columns]"
            ]
          },
          "metadata": {
            "tags": []
          },
          "execution_count": 3
        }
      ]
    },
    {
      "cell_type": "code",
      "metadata": {
        "id": "rDshwA7tDuVa",
        "colab": {
          "base_uri": "https://localhost:8080/"
        },
        "outputId": "282de2c0-4c1a-46d1-a8d9-84cbdc6aabc1"
      },
      "source": [
        "# Call .shape on your data\n",
        "coffeeData.shape"
      ],
      "execution_count": 4,
      "outputs": [
        {
          "output_type": "execute_result",
          "data": {
            "text/plain": [
              "(702, 9)"
            ]
          },
          "metadata": {
            "tags": []
          },
          "execution_count": 4
        }
      ]
    },
    {
      "cell_type": "code",
      "metadata": {
        "id": "iCxo0tomDuVc",
        "colab": {
          "base_uri": "https://localhost:8080/"
        },
        "outputId": "ac6b001e-9f13-4237-c939-71fb45ea7877"
      },
      "source": [
        "# Call info() on your data\n",
        "coffeeData.info() "
      ],
      "execution_count": 5,
      "outputs": [
        {
          "output_type": "stream",
          "text": [
            "<class 'pandas.core.frame.DataFrame'>\n",
            "RangeIndex: 702 entries, 0 to 701\n",
            "Data columns (total 9 columns):\n",
            " #   Column                   Non-Null Count  Dtype  \n",
            "---  ------                   --------------  -----  \n",
            " 0   Age                      702 non-null    int64  \n",
            " 1   Gender                   702 non-null    object \n",
            " 2   num_coffeeBags_per_year  702 non-null    int64  \n",
            " 3   spent_week               702 non-null    int64  \n",
            " 4   spent_month              702 non-null    int64  \n",
            " 5   SlrAY                    702 non-null    int64  \n",
            " 6   Distance                 702 non-null    float64\n",
            " 7   Online                   702 non-null    int64  \n",
            " 8   Decision                 474 non-null    float64\n",
            "dtypes: float64(2), int64(6), object(1)\n",
            "memory usage: 49.5+ KB\n"
          ],
          "name": "stdout"
        }
      ]
    },
    {
      "cell_type": "markdown",
      "metadata": {
        "id": "HPlR2mJttdCH"
      },
      "source": [
        "The `Gender` column would make more sense if it had a 'category' dtype.\r\n",
        "\r\n",
        "The column `Decision` has quite a few null values. Also, this column woul dmake sense to have a boolean dtype."
      ]
    },
    {
      "cell_type": "code",
      "metadata": {
        "id": "t0ZdmaUeDuVe",
        "colab": {
          "base_uri": "https://localhost:8080/",
          "height": 297
        },
        "outputId": "4916ed3c-99b3-4d7e-83a1-11c317575b2b"
      },
      "source": [
        "# Call describe() on your data to get the relevant summary statistics for your data \n",
        "coffeeData.describe()"
      ],
      "execution_count": 6,
      "outputs": [
        {
          "output_type": "execute_result",
          "data": {
            "text/html": [
              "<div>\n",
              "<style scoped>\n",
              "    .dataframe tbody tr th:only-of-type {\n",
              "        vertical-align: middle;\n",
              "    }\n",
              "\n",
              "    .dataframe tbody tr th {\n",
              "        vertical-align: top;\n",
              "    }\n",
              "\n",
              "    .dataframe thead th {\n",
              "        text-align: right;\n",
              "    }\n",
              "</style>\n",
              "<table border=\"1\" class=\"dataframe\">\n",
              "  <thead>\n",
              "    <tr style=\"text-align: right;\">\n",
              "      <th></th>\n",
              "      <th>Age</th>\n",
              "      <th>num_coffeeBags_per_year</th>\n",
              "      <th>spent_week</th>\n",
              "      <th>spent_month</th>\n",
              "      <th>SlrAY</th>\n",
              "      <th>Distance</th>\n",
              "      <th>Online</th>\n",
              "      <th>Decision</th>\n",
              "    </tr>\n",
              "  </thead>\n",
              "  <tbody>\n",
              "    <tr>\n",
              "      <th>count</th>\n",
              "      <td>702.000000</td>\n",
              "      <td>702.000000</td>\n",
              "      <td>702.000000</td>\n",
              "      <td>702.000000</td>\n",
              "      <td>702.000000</td>\n",
              "      <td>702.000000</td>\n",
              "      <td>702.000000</td>\n",
              "      <td>474.000000</td>\n",
              "    </tr>\n",
              "    <tr>\n",
              "      <th>mean</th>\n",
              "      <td>34.243590</td>\n",
              "      <td>2.710826</td>\n",
              "      <td>32.853276</td>\n",
              "      <td>107.923077</td>\n",
              "      <td>43819.843305</td>\n",
              "      <td>4.559186</td>\n",
              "      <td>0.531339</td>\n",
              "      <td>0.639241</td>\n",
              "    </tr>\n",
              "    <tr>\n",
              "      <th>std</th>\n",
              "      <td>13.927945</td>\n",
              "      <td>1.593629</td>\n",
              "      <td>15.731878</td>\n",
              "      <td>55.348485</td>\n",
              "      <td>26192.626943</td>\n",
              "      <td>3.116275</td>\n",
              "      <td>0.499373</td>\n",
              "      <td>0.480728</td>\n",
              "    </tr>\n",
              "    <tr>\n",
              "      <th>min</th>\n",
              "      <td>16.000000</td>\n",
              "      <td>0.000000</td>\n",
              "      <td>0.000000</td>\n",
              "      <td>0.000000</td>\n",
              "      <td>1617.000000</td>\n",
              "      <td>0.003168</td>\n",
              "      <td>0.000000</td>\n",
              "      <td>0.000000</td>\n",
              "    </tr>\n",
              "    <tr>\n",
              "      <th>25%</th>\n",
              "      <td>23.000000</td>\n",
              "      <td>1.000000</td>\n",
              "      <td>24.250000</td>\n",
              "      <td>62.000000</td>\n",
              "      <td>22812.250000</td>\n",
              "      <td>1.877812</td>\n",
              "      <td>0.000000</td>\n",
              "      <td>0.000000</td>\n",
              "    </tr>\n",
              "    <tr>\n",
              "      <th>50%</th>\n",
              "      <td>28.000000</td>\n",
              "      <td>3.000000</td>\n",
              "      <td>36.000000</td>\n",
              "      <td>113.500000</td>\n",
              "      <td>41975.000000</td>\n",
              "      <td>4.196167</td>\n",
              "      <td>1.000000</td>\n",
              "      <td>1.000000</td>\n",
              "    </tr>\n",
              "    <tr>\n",
              "      <th>75%</th>\n",
              "      <td>46.000000</td>\n",
              "      <td>4.000000</td>\n",
              "      <td>43.000000</td>\n",
              "      <td>150.750000</td>\n",
              "      <td>60223.000000</td>\n",
              "      <td>6.712022</td>\n",
              "      <td>1.000000</td>\n",
              "      <td>1.000000</td>\n",
              "    </tr>\n",
              "    <tr>\n",
              "      <th>max</th>\n",
              "      <td>90.000000</td>\n",
              "      <td>5.000000</td>\n",
              "      <td>62.000000</td>\n",
              "      <td>210.000000</td>\n",
              "      <td>182058.000000</td>\n",
              "      <td>10.986203</td>\n",
              "      <td>1.000000</td>\n",
              "      <td>1.000000</td>\n",
              "    </tr>\n",
              "  </tbody>\n",
              "</table>\n",
              "</div>"
            ],
            "text/plain": [
              "              Age  num_coffeeBags_per_year  ...      Online    Decision\n",
              "count  702.000000               702.000000  ...  702.000000  474.000000\n",
              "mean    34.243590                 2.710826  ...    0.531339    0.639241\n",
              "std     13.927945                 1.593629  ...    0.499373    0.480728\n",
              "min     16.000000                 0.000000  ...    0.000000    0.000000\n",
              "25%     23.000000                 1.000000  ...    0.000000    0.000000\n",
              "50%     28.000000                 3.000000  ...    1.000000    1.000000\n",
              "75%     46.000000                 4.000000  ...    1.000000    1.000000\n",
              "max     90.000000                 5.000000  ...    1.000000    1.000000\n",
              "\n",
              "[8 rows x 8 columns]"
            ]
          },
          "metadata": {
            "tags": []
          },
          "execution_count": 6
        }
      ]
    },
    {
      "cell_type": "markdown",
      "metadata": {
        "id": "INkujJ6QDuVg"
      },
      "source": [
        "# 2. Cleaning, transforming and visualizing\n",
        "## 2a. Cleaning the data"
      ]
    },
    {
      "cell_type": "markdown",
      "metadata": {
        "id": "wIMW_rbdDuVh"
      },
      "source": [
        "Some datasets don't require any cleaning, but almost all do. This one does. We need to replace '1.0' and '0.0' in the 'Decision' column by 'YES' and 'NO' respectively, clean up the values of the 'gender' column, and change the column names to words which maximize meaning and clarity. "
      ]
    },
    {
      "cell_type": "markdown",
      "metadata": {
        "id": "EEXdBALeDuVi"
      },
      "source": [
        "First, let's change the name of `spent_week`, `spent_month`, and `SlrAY` to `spent_last_week` and `spent_last_month` and `salary` respectively."
      ]
    },
    {
      "cell_type": "code",
      "metadata": {
        "id": "rhxy23pbDuVi",
        "colab": {
          "base_uri": "https://localhost:8080/"
        },
        "outputId": "9ff46292-0f4c-43f5-9a3d-50ff9d22cf31"
      },
      "source": [
        "# Check out the names of our data's columns \n",
        "coffeeData.columns"
      ],
      "execution_count": 7,
      "outputs": [
        {
          "output_type": "execute_result",
          "data": {
            "text/plain": [
              "Index(['Age', 'Gender', 'num_coffeeBags_per_year', 'spent_week', 'spent_month',\n",
              "       'SlrAY', 'Distance', 'Online', 'Decision'],\n",
              "      dtype='object')"
            ]
          },
          "metadata": {
            "tags": []
          },
          "execution_count": 7
        }
      ]
    },
    {
      "cell_type": "code",
      "metadata": {
        "id": "C_D1m6ryDuVk"
      },
      "source": [
        "# Make the relevant name changes to spent_week and spent_per_week.\n",
        "coffeeData['spent_last_week'] = coffeeData.pop('spent_week')\n",
        "coffeeData['spent_last_month'] = coffeeData.pop('spent_month')\n",
        "coffeeData['salary'] = coffeeData.pop('SlrAY')"
      ],
      "execution_count": 8,
      "outputs": []
    },
    {
      "cell_type": "code",
      "metadata": {
        "id": "3cmdaeg8DuVm",
        "colab": {
          "base_uri": "https://localhost:8080/"
        },
        "outputId": "fd3f8eed-bafb-4c96-fa65-93d0ce33d6e5"
      },
      "source": [
        "# Check out the column names\n",
        "coffeeData.columns"
      ],
      "execution_count": 9,
      "outputs": [
        {
          "output_type": "execute_result",
          "data": {
            "text/plain": [
              "Index(['Age', 'Gender', 'num_coffeeBags_per_year', 'Distance', 'Online',\n",
              "       'Decision', 'spent_last_week', 'spent_last_month', 'salary'],\n",
              "      dtype='object')"
            ]
          },
          "metadata": {
            "tags": []
          },
          "execution_count": 9
        }
      ]
    },
    {
      "cell_type": "code",
      "metadata": {
        "id": "XJK-wbfODuVp",
        "colab": {
          "base_uri": "https://localhost:8080/"
        },
        "outputId": "32bfb9f9-45e6-4772-a5eb-2a8c45acbc9a"
      },
      "source": [
        "# Let's have a closer look at the gender column. Its values need cleaning.\n",
        "coffeeData['Gender'].value_counts()"
      ],
      "execution_count": 10,
      "outputs": [
        {
          "output_type": "execute_result",
          "data": {
            "text/plain": [
              "Male      355\n",
              "Female    340\n",
              "f           1\n",
              "F           1\n",
              "MALE        1\n",
              "female      1\n",
              "FEMALE      1\n",
              "M           1\n",
              "male        1\n",
              "Name: Gender, dtype: int64"
            ]
          },
          "metadata": {
            "tags": []
          },
          "execution_count": 10
        }
      ]
    },
    {
      "cell_type": "code",
      "metadata": {
        "id": "88bITtgzDuVr",
        "colab": {
          "base_uri": "https://localhost:8080/"
        },
        "outputId": "931bf75d-35c5-41d9-f37e-adca9948d7f1"
      },
      "source": [
        "# See the gender column's unique values \n",
        "coffeeData['Gender'].unique()"
      ],
      "execution_count": 11,
      "outputs": [
        {
          "output_type": "execute_result",
          "data": {
            "text/plain": [
              "array(['Female', 'Male', 'female', 'F', 'f ', 'FEMALE', 'MALE', 'male',\n",
              "       'M'], dtype=object)"
            ]
          },
          "metadata": {
            "tags": []
          },
          "execution_count": 11
        }
      ]
    },
    {
      "cell_type": "markdown",
      "metadata": {
        "id": "-eGzgGR1DuVt"
      },
      "source": [
        "We can see a bunch of inconsistency here.\n",
        "\n",
        "Use replace() to make the values of the `gender` column just `Female` and `Male`."
      ]
    },
    {
      "cell_type": "code",
      "metadata": {
        "id": "h0FOX3I3DuVu"
      },
      "source": [
        "# Replace all alternate values for the Female entry with 'Female'\n",
        "for entry in coffeeData['Gender'].unique():\n",
        "  if entry[0] in ['F', 'f']:\n",
        "    coffeeData['Gender'] = coffeeData['Gender'].replace(entry, 'Female')"
      ],
      "execution_count": 12,
      "outputs": []
    },
    {
      "cell_type": "code",
      "metadata": {
        "id": "5TThfHgCDuVw",
        "colab": {
          "base_uri": "https://localhost:8080/"
        },
        "outputId": "53802f70-61c0-4e8c-eaff-2ee8acd9aab0"
      },
      "source": [
        "# Check out the unique values for the 'gender' column\n",
        "coffeeData['Gender'].unique() "
      ],
      "execution_count": 13,
      "outputs": [
        {
          "output_type": "execute_result",
          "data": {
            "text/plain": [
              "array(['Female', 'Male', 'MALE', 'male', 'M'], dtype=object)"
            ]
          },
          "metadata": {
            "tags": []
          },
          "execution_count": 13
        }
      ]
    },
    {
      "cell_type": "code",
      "metadata": {
        "id": "4wRKBvSHDuVy"
      },
      "source": [
        "# Replace all alternate values with \"Male\"\n",
        "for entry in coffeeData['Gender'].unique():\n",
        "  if entry[0] in ['M', 'm']:\n",
        "    coffeeData['Gender'] = coffeeData['Gender'].replace(entry, 'Male')"
      ],
      "execution_count": 14,
      "outputs": []
    },
    {
      "cell_type": "code",
      "metadata": {
        "id": "nhBUkXIADuV0",
        "colab": {
          "base_uri": "https://localhost:8080/"
        },
        "outputId": "742f0704-fe9b-49a1-a93e-943e587ec5c9"
      },
      "source": [
        "# Let's check the unique values of the column \"gender\"\n",
        "coffeeData['Gender'].unique() "
      ],
      "execution_count": 15,
      "outputs": [
        {
          "output_type": "execute_result",
          "data": {
            "text/plain": [
              "array(['Female', 'Male'], dtype=object)"
            ]
          },
          "metadata": {
            "tags": []
          },
          "execution_count": 15
        }
      ]
    },
    {
      "cell_type": "code",
      "metadata": {
        "id": "AdhhO4WHDuV2",
        "colab": {
          "base_uri": "https://localhost:8080/"
        },
        "outputId": "e4046442-35a0-482e-dc94-7b9562ff05f5"
      },
      "source": [
        "# Check out the unique values of the column 'Decision'\n",
        "coffeeData['Decision'].unique()"
      ],
      "execution_count": 16,
      "outputs": [
        {
          "output_type": "execute_result",
          "data": {
            "text/plain": [
              "array([ 1., nan,  0.])"
            ]
          },
          "metadata": {
            "tags": []
          },
          "execution_count": 16
        }
      ]
    },
    {
      "cell_type": "markdown",
      "metadata": {
        "id": "m1JuiY-iDuV5"
      },
      "source": [
        "We now want to replace `1.0` and `0.0` in the `Decision` column by `YES` and `NO` respectively."
      ]
    },
    {
      "cell_type": "code",
      "metadata": {
        "id": "QsK6gYPgDuV5"
      },
      "source": [
        "# Replace 1.0 and 0.0 by 'Yes' and 'No'\n",
        "coffeeData['Decision'] = coffeeData['Decision'].replace(1., 'Yes')\n",
        "coffeeData['Decision'] = coffeeData['Decision'].replace(0., 'No')\n",
        " "
      ],
      "execution_count": 17,
      "outputs": []
    },
    {
      "cell_type": "code",
      "metadata": {
        "id": "YtHnTZuWDuV9",
        "colab": {
          "base_uri": "https://localhost:8080/"
        },
        "outputId": "a5970710-6e37-4fa7-aef8-34e07b3e0fdc"
      },
      "source": [
        "# Check that our replacing those values with 'YES' and 'NO' worked, with unique()\n",
        "coffeeData['Decision'].unique() "
      ],
      "execution_count": 18,
      "outputs": [
        {
          "output_type": "execute_result",
          "data": {
            "text/plain": [
              "array(['Yes', nan, 'No'], dtype=object)"
            ]
          },
          "metadata": {
            "tags": []
          },
          "execution_count": 18
        }
      ]
    },
    {
      "cell_type": "markdown",
      "metadata": {
        "id": "CKCt-fBlDuWB"
      },
      "source": [
        "## 2b. Train/test split\n",
        "To execute the train/test split properly, we need to do five things: \n",
        "1. Drop all rows with a null value in the `Decision` column, and save the result as NOPrediction: a dataset that will contain all known values for the decision \n",
        "2. Visualize the data using scatter and boxplots of several variables in the y-axis and the decision on the x-axis\n",
        "3. Get the subset of coffeeData with null values in the `Decision` column, and save that subset as Prediction\n",
        "4. Divide the NOPrediction subset into X and y, and then further divide those subsets into train and test subsets for X and y respectively\n",
        "5. Create dummy variables to deal with categorical inputs"
      ]
    },
    {
      "cell_type": "markdown",
      "metadata": {
        "id": "ysHdkIaQDuWB"
      },
      "source": [
        "### 1. Drop all null values within the `Decision` column, and save the result as NoPrediction"
      ]
    },
    {
      "cell_type": "code",
      "metadata": {
        "id": "pvgH6SM4DuWC",
        "colab": {
          "base_uri": "https://localhost:8080/",
          "height": 297
        },
        "outputId": "5787dfd8-deb1-42bc-a2a6-21ef86a06327"
      },
      "source": [
        "# NoPrediction will contain all known values for the decision\n",
        "# Call dropna() on coffeeData, and store the result in a variable NOPrediction \n",
        "# Call describe() on the Decision column of NoPrediction after calling dropna() on coffeeData\n",
        "NoPrediction = coffeeData.dropna(axis=0).reset_index(drop=True)\n",
        "NoPrediction.describe()"
      ],
      "execution_count": 19,
      "outputs": [
        {
          "output_type": "execute_result",
          "data": {
            "text/html": [
              "<div>\n",
              "<style scoped>\n",
              "    .dataframe tbody tr th:only-of-type {\n",
              "        vertical-align: middle;\n",
              "    }\n",
              "\n",
              "    .dataframe tbody tr th {\n",
              "        vertical-align: top;\n",
              "    }\n",
              "\n",
              "    .dataframe thead th {\n",
              "        text-align: right;\n",
              "    }\n",
              "</style>\n",
              "<table border=\"1\" class=\"dataframe\">\n",
              "  <thead>\n",
              "    <tr style=\"text-align: right;\">\n",
              "      <th></th>\n",
              "      <th>Age</th>\n",
              "      <th>num_coffeeBags_per_year</th>\n",
              "      <th>Distance</th>\n",
              "      <th>Online</th>\n",
              "      <th>spent_last_week</th>\n",
              "      <th>spent_last_month</th>\n",
              "      <th>salary</th>\n",
              "    </tr>\n",
              "  </thead>\n",
              "  <tbody>\n",
              "    <tr>\n",
              "      <th>count</th>\n",
              "      <td>474.000000</td>\n",
              "      <td>474.000000</td>\n",
              "      <td>474.000000</td>\n",
              "      <td>474.000000</td>\n",
              "      <td>474.000000</td>\n",
              "      <td>474.000000</td>\n",
              "      <td>474.000000</td>\n",
              "    </tr>\n",
              "    <tr>\n",
              "      <th>mean</th>\n",
              "      <td>35.417722</td>\n",
              "      <td>2.590717</td>\n",
              "      <td>5.102898</td>\n",
              "      <td>0.512658</td>\n",
              "      <td>32.592827</td>\n",
              "      <td>106.727848</td>\n",
              "      <td>44731.892405</td>\n",
              "    </tr>\n",
              "    <tr>\n",
              "      <th>std</th>\n",
              "      <td>13.604135</td>\n",
              "      <td>1.585211</td>\n",
              "      <td>3.354891</td>\n",
              "      <td>0.500368</td>\n",
              "      <td>15.758109</td>\n",
              "      <td>56.101085</td>\n",
              "      <td>25567.674430</td>\n",
              "    </tr>\n",
              "    <tr>\n",
              "      <th>min</th>\n",
              "      <td>16.000000</td>\n",
              "      <td>0.000000</td>\n",
              "      <td>0.003168</td>\n",
              "      <td>0.000000</td>\n",
              "      <td>0.000000</td>\n",
              "      <td>0.000000</td>\n",
              "      <td>3150.000000</td>\n",
              "    </tr>\n",
              "    <tr>\n",
              "      <th>25%</th>\n",
              "      <td>25.000000</td>\n",
              "      <td>1.000000</td>\n",
              "      <td>2.077965</td>\n",
              "      <td>0.000000</td>\n",
              "      <td>24.000000</td>\n",
              "      <td>60.000000</td>\n",
              "      <td>27284.250000</td>\n",
              "    </tr>\n",
              "    <tr>\n",
              "      <th>50%</th>\n",
              "      <td>29.000000</td>\n",
              "      <td>3.000000</td>\n",
              "      <td>4.832168</td>\n",
              "      <td>1.000000</td>\n",
              "      <td>35.000000</td>\n",
              "      <td>113.500000</td>\n",
              "      <td>42791.500000</td>\n",
              "    </tr>\n",
              "    <tr>\n",
              "      <th>75%</th>\n",
              "      <td>49.000000</td>\n",
              "      <td>4.000000</td>\n",
              "      <td>7.869086</td>\n",
              "      <td>1.000000</td>\n",
              "      <td>43.000000</td>\n",
              "      <td>150.000000</td>\n",
              "      <td>61621.750000</td>\n",
              "    </tr>\n",
              "    <tr>\n",
              "      <th>max</th>\n",
              "      <td>90.000000</td>\n",
              "      <td>5.000000</td>\n",
              "      <td>10.986203</td>\n",
              "      <td>1.000000</td>\n",
              "      <td>62.000000</td>\n",
              "      <td>210.000000</td>\n",
              "      <td>172658.000000</td>\n",
              "    </tr>\n",
              "  </tbody>\n",
              "</table>\n",
              "</div>"
            ],
            "text/plain": [
              "              Age  num_coffeeBags_per_year  ...  spent_last_month         salary\n",
              "count  474.000000               474.000000  ...        474.000000     474.000000\n",
              "mean    35.417722                 2.590717  ...        106.727848   44731.892405\n",
              "std     13.604135                 1.585211  ...         56.101085   25567.674430\n",
              "min     16.000000                 0.000000  ...          0.000000    3150.000000\n",
              "25%     25.000000                 1.000000  ...         60.000000   27284.250000\n",
              "50%     29.000000                 3.000000  ...        113.500000   42791.500000\n",
              "75%     49.000000                 4.000000  ...        150.000000   61621.750000\n",
              "max     90.000000                 5.000000  ...        210.000000  172658.000000\n",
              "\n",
              "[8 rows x 7 columns]"
            ]
          },
          "metadata": {
            "tags": []
          },
          "execution_count": 19
        }
      ]
    },
    {
      "cell_type": "markdown",
      "metadata": {
        "id": "XfTK5Ec6DuWE"
      },
      "source": [
        "### 2. Visualize the data using scatter and boxplots of several variables in the y-axis and the decision on the x-axis"
      ]
    },
    {
      "cell_type": "code",
      "metadata": {
        "id": "5O-M-t3tDuWE",
        "colab": {
          "base_uri": "https://localhost:8080/",
          "height": 1000
        },
        "outputId": "9886b303-7ce6-4909-d0eb-49145db10fd9"
      },
      "source": [
        "# Exploring our new NOPrediction dataset\n",
        "# Make a boxplot on NOPrediction where the x axis is Decision, and the y axis is spent_last_week\n",
        "# for column in NoPrediction.drop(columns=['Decision']):\n",
        "#   if NoPrediction[column].dtype == 'int':\n",
        "#     sns.boxplot(x='Decision', y=column, data=NoPrediction);\n",
        "\n",
        "\n",
        "\n",
        "\n",
        "for i, col in enumerate(NoPrediction.select_dtypes([np.int, np.float]).columns):\n",
        "    plt.figure(i)\n",
        "    sns.boxplot(x='Decision', y=col, data=NoPrediction)\n",
        "    plt.title(f'Boxplot for {col}, by Decision')"
      ],
      "execution_count": 20,
      "outputs": [
        {
          "output_type": "display_data",
          "data": {
            "image/png": "[encoded data removed]",
            "text/plain": [
              "<Figure size 432x288 with 1 Axes>"
            ]
          },
          "metadata": {
            "tags": [],
            "needs_background": "light"
          }
        },
        {
          "output_type": "display_data",
          "data": {
            "image/png": "[encoded data removed]",
            "text/plain": [
              "<Figure size 432x288 with 1 Axes>"
            ]
          },
          "metadata": {
            "tags": [],
            "needs_background": "light"
          }
        },
        {
          "output_type": "display_data",
          "data": {
            "image/png": "[encoded data removed]",
            "text/plain": [
              "<Figure size 432x288 with 1 Axes>"
            ]
          },
          "metadata": {
            "tags": [],
            "needs_background": "light"
          }
        },
        {
          "output_type": "display_data",
          "data": {
            "image/png": "[encoded data removed]",
            "text/plain": [
              "<Figure size 432x288 with 1 Axes>"
            ]
          },
          "metadata": {
            "tags": [],
            "needs_background": "light"
          }
        },
        {
          "output_type": "display_data",
          "data": {
            "image/png": "[encoded data removed]",
            "text/plain": [
              "<Figure size 432x288 with 1 Axes>"
            ]
          },
          "metadata": {
            "tags": [],
            "needs_background": "light"
          }
        },
        {
          "output_type": "display_data",
          "data": {
            "image/png": "[encoded data removed]",
            "text/plain": [
              "<Figure size 432x288 with 1 Axes>"
            ]
          },
          "metadata": {
            "tags": [],
            "needs_background": "light"
          }
        },
        {
          "output_type": "display_data",
          "data": {
            "image/png": "[encoded data removed]",
            "text/plain": [
              "<Figure size 432x288 with 1 Axes>"
            ]
          },
          "metadata": {
            "tags": [],
            "needs_background": "light"
          }
        }
      ]
    },
    {
      "cell_type": "markdown",
      "metadata": {
        "id": "mVqg_HI7DuWG"
      },
      "source": [
        "Can you admissibly conclude anything from this boxplot? Write your answer here:\n",
        "\n"
      ]
    },
    {
      "cell_type": "markdown",
      "metadata": {
        "id": "hY5PzJPIR1WS"
      },
      "source": [
        "The boxplots don't show anyting conclusive. \r\n",
        "\r\n",
        "However, there are a moderately strong observed effect in `spent_last_month`, `spent_last_week`, and `salary`. \r\n",
        "\r\n",
        "There is at least a moderate effect found in `Age`, `Distance`, `spent_last_month`, `spent_last_week`, and `salary`. The median for the 'Yes' group lies outside the interquartile range of the 'No' group. \r\n",
        "\r\n",
        "A subset of these features--`spent_last_month` and `spent_last_week`-- have a stronger observed effect. For these, the entire IQR of the 'Yes' group lies outside the IQR of the 'No' group."
      ]
    },
    {
      "cell_type": "code",
      "metadata": {
        "id": "q-AyXWSxDuWH",
        "colab": {
          "base_uri": "https://localhost:8080/",
          "height": 279
        },
        "outputId": "fbd15ad5-000e-4c03-adae-e618305d1f40"
      },
      "source": [
        "# Make a scatterplot on NOPrediction, where x is distance, y is spent_last_month and hue is Decision \n",
        "sns.scatterplot(x='Distance', y='spent_last_month', data=NoPrediction, hue='Decision');"
      ],
      "execution_count": 25,
      "outputs": [
        {
          "output_type": "display_data",
          "data": {
            "image/png": "[encoded data removed]",
            "text/plain": [
              "<Figure size 432x288 with 1 Axes>"
            ]
          },
          "metadata": {
            "tags": [],
            "needs_background": "light"
          }
        }
      ]
    },
    {
      "cell_type": "markdown",
      "metadata": {
        "id": "I_nr36yZDuWJ"
      },
      "source": [
        "Can you admissibly conclude anything from this scatterplot? Remember: we are trying to build a tree to classify unseen examples. Write your answer here:"
      ]
    },
    {
      "cell_type": "markdown",
      "metadata": {
        "id": "yqnjsdRbU2U7"
      },
      "source": [
        "We can conclude that if `Distance > 6` and `spent_last_month < 80`, the `Decision` is likely to be 'No'.\r\n",
        "\r\n",
        "We can also conclude that if `Distance < 7.5` and `spent_last_month > 110 `, the `Decision` is likely to be 'Yes'."
      ]
    },
    {
      "cell_type": "markdown",
      "metadata": {
        "id": "oQBPyvehDuWK"
      },
      "source": [
        "### 3. Get the subset of coffeeData with null values in the Decision column, and save that subset as Prediction"
      ]
    },
    {
      "cell_type": "code",
      "metadata": {
        "id": "vcCednqUDuWL",
        "colab": {
          "base_uri": "https://localhost:8080/",
          "height": 419
        },
        "outputId": "271888b4-d626-4e7d-8015-ad1d85bb05c9"
      },
      "source": [
        "# Get just those rows whose value for the Decision column is null  \n",
        "Prediction = coffeeData[coffeeData['Decision'].isna()]\n",
        "Prediction"
      ],
      "execution_count": 27,
      "outputs": [
        {
          "output_type": "execute_result",
          "data": {
            "text/html": [
              "<div>\n",
              "<style scoped>\n",
              "    .dataframe tbody tr th:only-of-type {\n",
              "        vertical-align: middle;\n",
              "    }\n",
              "\n",
              "    .dataframe tbody tr th {\n",
              "        vertical-align: top;\n",
              "    }\n",
              "\n",
              "    .dataframe thead th {\n",
              "        text-align: right;\n",
              "    }\n",
              "</style>\n",
              "<table border=\"1\" class=\"dataframe\">\n",
              "  <thead>\n",
              "    <tr style=\"text-align: right;\">\n",
              "      <th></th>\n",
              "      <th>Age</th>\n",
              "      <th>Gender</th>\n",
              "      <th>num_coffeeBags_per_year</th>\n",
              "      <th>Distance</th>\n",
              "      <th>Online</th>\n",
              "      <th>Decision</th>\n",
              "      <th>spent_last_week</th>\n",
              "      <th>spent_last_month</th>\n",
              "      <th>salary</th>\n",
              "    </tr>\n",
              "  </thead>\n",
              "  <tbody>\n",
              "    <tr>\n",
              "      <th>1</th>\n",
              "      <td>24</td>\n",
              "      <td>Male</td>\n",
              "      <td>0</td>\n",
              "      <td>0.520906</td>\n",
              "      <td>0</td>\n",
              "      <td>NaN</td>\n",
              "      <td>44</td>\n",
              "      <td>164</td>\n",
              "      <td>74035</td>\n",
              "    </tr>\n",
              "    <tr>\n",
              "      <th>3</th>\n",
              "      <td>20</td>\n",
              "      <td>Male</td>\n",
              "      <td>0</td>\n",
              "      <td>0.932098</td>\n",
              "      <td>1</td>\n",
              "      <td>NaN</td>\n",
              "      <td>30</td>\n",
              "      <td>107</td>\n",
              "      <td>13166</td>\n",
              "    </tr>\n",
              "    <tr>\n",
              "      <th>7</th>\n",
              "      <td>24</td>\n",
              "      <td>Female</td>\n",
              "      <td>0</td>\n",
              "      <td>1.193188</td>\n",
              "      <td>0</td>\n",
              "      <td>NaN</td>\n",
              "      <td>20</td>\n",
              "      <td>34</td>\n",
              "      <td>17425</td>\n",
              "    </tr>\n",
              "    <tr>\n",
              "      <th>11</th>\n",
              "      <td>24</td>\n",
              "      <td>Female</td>\n",
              "      <td>0</td>\n",
              "      <td>1.655096</td>\n",
              "      <td>1</td>\n",
              "      <td>NaN</td>\n",
              "      <td>40</td>\n",
              "      <td>153</td>\n",
              "      <td>84803</td>\n",
              "    </tr>\n",
              "    <tr>\n",
              "      <th>12</th>\n",
              "      <td>21</td>\n",
              "      <td>Female</td>\n",
              "      <td>0</td>\n",
              "      <td>1.714179</td>\n",
              "      <td>1</td>\n",
              "      <td>NaN</td>\n",
              "      <td>38</td>\n",
              "      <td>122</td>\n",
              "      <td>42338</td>\n",
              "    </tr>\n",
              "    <tr>\n",
              "      <th>...</th>\n",
              "      <td>...</td>\n",
              "      <td>...</td>\n",
              "      <td>...</td>\n",
              "      <td>...</td>\n",
              "      <td>...</td>\n",
              "      <td>...</td>\n",
              "      <td>...</td>\n",
              "      <td>...</td>\n",
              "      <td>...</td>\n",
              "    </tr>\n",
              "    <tr>\n",
              "      <th>673</th>\n",
              "      <td>66</td>\n",
              "      <td>Female</td>\n",
              "      <td>5</td>\n",
              "      <td>5.984716</td>\n",
              "      <td>0</td>\n",
              "      <td>NaN</td>\n",
              "      <td>0</td>\n",
              "      <td>52</td>\n",
              "      <td>55227</td>\n",
              "    </tr>\n",
              "    <tr>\n",
              "      <th>677</th>\n",
              "      <td>67</td>\n",
              "      <td>Male</td>\n",
              "      <td>5</td>\n",
              "      <td>6.288700</td>\n",
              "      <td>1</td>\n",
              "      <td>NaN</td>\n",
              "      <td>41</td>\n",
              "      <td>151</td>\n",
              "      <td>182058</td>\n",
              "    </tr>\n",
              "    <tr>\n",
              "      <th>680</th>\n",
              "      <td>24</td>\n",
              "      <td>Female</td>\n",
              "      <td>5</td>\n",
              "      <td>6.583449</td>\n",
              "      <td>1</td>\n",
              "      <td>NaN</td>\n",
              "      <td>62</td>\n",
              "      <td>205</td>\n",
              "      <td>55772</td>\n",
              "    </tr>\n",
              "    <tr>\n",
              "      <th>682</th>\n",
              "      <td>33</td>\n",
              "      <td>Female</td>\n",
              "      <td>5</td>\n",
              "      <td>6.723241</td>\n",
              "      <td>0</td>\n",
              "      <td>NaN</td>\n",
              "      <td>34</td>\n",
              "      <td>96</td>\n",
              "      <td>78058</td>\n",
              "    </tr>\n",
              "    <tr>\n",
              "      <th>700</th>\n",
              "      <td>20</td>\n",
              "      <td>Female</td>\n",
              "      <td>5</td>\n",
              "      <td>10.871566</td>\n",
              "      <td>0</td>\n",
              "      <td>NaN</td>\n",
              "      <td>41</td>\n",
              "      <td>159</td>\n",
              "      <td>12522</td>\n",
              "    </tr>\n",
              "  </tbody>\n",
              "</table>\n",
              "<p>228 rows × 9 columns</p>\n",
              "</div>"
            ],
            "text/plain": [
              "     Age  Gender  ...  spent_last_month  salary\n",
              "1     24    Male  ...               164   74035\n",
              "3     20    Male  ...               107   13166\n",
              "7     24  Female  ...                34   17425\n",
              "11    24  Female  ...               153   84803\n",
              "12    21  Female  ...               122   42338\n",
              "..   ...     ...  ...               ...     ...\n",
              "673   66  Female  ...                52   55227\n",
              "677   67    Male  ...               151  182058\n",
              "680   24  Female  ...               205   55772\n",
              "682   33  Female  ...                96   78058\n",
              "700   20  Female  ...               159   12522\n",
              "\n",
              "[228 rows x 9 columns]"
            ]
          },
          "metadata": {
            "tags": []
          },
          "execution_count": 27
        }
      ]
    },
    {
      "cell_type": "code",
      "metadata": {
        "id": "aenlmp9NDuWM",
        "colab": {
          "base_uri": "https://localhost:8080/",
          "height": 297
        },
        "outputId": "cb9d8267-5481-447a-a042-a306bee7f6f2"
      },
      "source": [
        "# Call describe() on Prediction\n",
        "Prediction.describe()"
      ],
      "execution_count": 28,
      "outputs": [
        {
          "output_type": "execute_result",
          "data": {
            "text/html": [
              "<div>\n",
              "<style scoped>\n",
              "    .dataframe tbody tr th:only-of-type {\n",
              "        vertical-align: middle;\n",
              "    }\n",
              "\n",
              "    .dataframe tbody tr th {\n",
              "        vertical-align: top;\n",
              "    }\n",
              "\n",
              "    .dataframe thead th {\n",
              "        text-align: right;\n",
              "    }\n",
              "</style>\n",
              "<table border=\"1\" class=\"dataframe\">\n",
              "  <thead>\n",
              "    <tr style=\"text-align: right;\">\n",
              "      <th></th>\n",
              "      <th>Age</th>\n",
              "      <th>num_coffeeBags_per_year</th>\n",
              "      <th>Distance</th>\n",
              "      <th>Online</th>\n",
              "      <th>spent_last_week</th>\n",
              "      <th>spent_last_month</th>\n",
              "      <th>salary</th>\n",
              "    </tr>\n",
              "  </thead>\n",
              "  <tbody>\n",
              "    <tr>\n",
              "      <th>count</th>\n",
              "      <td>228.000000</td>\n",
              "      <td>228.000000</td>\n",
              "      <td>228.000000</td>\n",
              "      <td>228.000000</td>\n",
              "      <td>228.000000</td>\n",
              "      <td>228.000000</td>\n",
              "      <td>228.000000</td>\n",
              "    </tr>\n",
              "    <tr>\n",
              "      <th>mean</th>\n",
              "      <td>31.802632</td>\n",
              "      <td>2.960526</td>\n",
              "      <td>3.428836</td>\n",
              "      <td>0.570175</td>\n",
              "      <td>33.394737</td>\n",
              "      <td>110.407895</td>\n",
              "      <td>41923.741228</td>\n",
              "    </tr>\n",
              "    <tr>\n",
              "      <th>std</th>\n",
              "      <td>14.302293</td>\n",
              "      <td>1.585514</td>\n",
              "      <td>2.153102</td>\n",
              "      <td>0.496140</td>\n",
              "      <td>15.697930</td>\n",
              "      <td>53.786536</td>\n",
              "      <td>27406.768360</td>\n",
              "    </tr>\n",
              "    <tr>\n",
              "      <th>min</th>\n",
              "      <td>16.000000</td>\n",
              "      <td>0.000000</td>\n",
              "      <td>0.010048</td>\n",
              "      <td>0.000000</td>\n",
              "      <td>0.000000</td>\n",
              "      <td>0.000000</td>\n",
              "      <td>1617.000000</td>\n",
              "    </tr>\n",
              "    <tr>\n",
              "      <th>25%</th>\n",
              "      <td>22.000000</td>\n",
              "      <td>2.000000</td>\n",
              "      <td>1.699408</td>\n",
              "      <td>0.000000</td>\n",
              "      <td>25.750000</td>\n",
              "      <td>65.000000</td>\n",
              "      <td>15911.500000</td>\n",
              "    </tr>\n",
              "    <tr>\n",
              "      <th>50%</th>\n",
              "      <td>25.000000</td>\n",
              "      <td>3.000000</td>\n",
              "      <td>3.208673</td>\n",
              "      <td>1.000000</td>\n",
              "      <td>37.000000</td>\n",
              "      <td>113.500000</td>\n",
              "      <td>40987.500000</td>\n",
              "    </tr>\n",
              "    <tr>\n",
              "      <th>75%</th>\n",
              "      <td>39.000000</td>\n",
              "      <td>4.000000</td>\n",
              "      <td>5.261184</td>\n",
              "      <td>1.000000</td>\n",
              "      <td>44.000000</td>\n",
              "      <td>151.250000</td>\n",
              "      <td>58537.000000</td>\n",
              "    </tr>\n",
              "    <tr>\n",
              "      <th>max</th>\n",
              "      <td>67.000000</td>\n",
              "      <td>5.000000</td>\n",
              "      <td>10.871566</td>\n",
              "      <td>1.000000</td>\n",
              "      <td>62.000000</td>\n",
              "      <td>210.000000</td>\n",
              "      <td>182058.000000</td>\n",
              "    </tr>\n",
              "  </tbody>\n",
              "</table>\n",
              "</div>"
            ],
            "text/plain": [
              "              Age  num_coffeeBags_per_year  ...  spent_last_month         salary\n",
              "count  228.000000               228.000000  ...        228.000000     228.000000\n",
              "mean    31.802632                 2.960526  ...        110.407895   41923.741228\n",
              "std     14.302293                 1.585514  ...         53.786536   27406.768360\n",
              "min     16.000000                 0.000000  ...          0.000000    1617.000000\n",
              "25%     22.000000                 2.000000  ...         65.000000   15911.500000\n",
              "50%     25.000000                 3.000000  ...        113.500000   40987.500000\n",
              "75%     39.000000                 4.000000  ...        151.250000   58537.000000\n",
              "max     67.000000                 5.000000  ...        210.000000  182058.000000\n",
              "\n",
              "[8 rows x 7 columns]"
            ]
          },
          "metadata": {
            "tags": []
          },
          "execution_count": 28
        }
      ]
    },
    {
      "cell_type": "markdown",
      "metadata": {
        "id": "zmN_BPwFDuWO"
      },
      "source": [
        "### 4. Divide the NOPrediction subset into X and y"
      ]
    },
    {
      "cell_type": "code",
      "metadata": {
        "id": "00WtPVYSDuWP",
        "colab": {
          "base_uri": "https://localhost:8080/"
        },
        "outputId": "f4f3fe82-6381-44d3-ea16-b8158bd0640c"
      },
      "source": [
        "# Check the names of the columns of NOPrediction\n",
        "NoPrediction.columns"
      ],
      "execution_count": 29,
      "outputs": [
        {
          "output_type": "execute_result",
          "data": {
            "text/plain": [
              "Index(['Age', 'Gender', 'num_coffeeBags_per_year', 'Distance', 'Online',\n",
              "       'Decision', 'spent_last_week', 'spent_last_month', 'salary'],\n",
              "      dtype='object')"
            ]
          },
          "metadata": {
            "tags": []
          },
          "execution_count": 29
        }
      ]
    },
    {
      "cell_type": "code",
      "metadata": {
        "id": "oPi2gMLfDuWQ"
      },
      "source": [
        "# Let's do our feature selection.\n",
        "# Make a variable called 'features', and a list containing the strings of every column except \"Decision\"\n",
        "features = list(NoPrediction.drop(columns=['Decision']).columns)\n",
        "\n",
        "# Make an explanatory variable called X, and assign it: NoPrediction[features]\n",
        "X = NoPrediction[features]\n",
        "\n",
        "# Make a dependent variable called y, and assign it: NoPrediction.Decision\n",
        "y = NoPrediction['Decision']"
      ],
      "execution_count": 31,
      "outputs": []
    },
    {
      "cell_type": "code",
      "metadata": {
        "colab": {
          "base_uri": "https://localhost:8080/"
        },
        "id": "gs6dG3GhWz3y",
        "outputId": "de668bc1-cd47-450c-8f13-7af1f6d11b05"
      },
      "source": [
        "features"
      ],
      "execution_count": 32,
      "outputs": [
        {
          "output_type": "execute_result",
          "data": {
            "text/plain": [
              "['Age',\n",
              " 'Gender',\n",
              " 'num_coffeeBags_per_year',\n",
              " 'Distance',\n",
              " 'Online',\n",
              " 'spent_last_week',\n",
              " 'spent_last_month',\n",
              " 'salary']"
            ]
          },
          "metadata": {
            "tags": []
          },
          "execution_count": 32
        }
      ]
    },
    {
      "cell_type": "code",
      "metadata": {
        "colab": {
          "base_uri": "https://localhost:8080/"
        },
        "id": "Bxq66qUwW1Vo",
        "outputId": "288141db-cc7a-44d0-a648-bb8b7c1744b0"
      },
      "source": [
        "X.shape, y.shape"
      ],
      "execution_count": 33,
      "outputs": [
        {
          "output_type": "execute_result",
          "data": {
            "text/plain": [
              "((474, 8), (474,))"
            ]
          },
          "metadata": {
            "tags": []
          },
          "execution_count": 33
        }
      ]
    },
    {
      "cell_type": "markdown",
      "metadata": {
        "id": "R-d3XOv8DuWW"
      },
      "source": [
        "### 5. Create dummy variables to deal with categorical inputs\n",
        "One-hot encoding replaces each unique value of a given column with a new column, and puts a 1 in the new column for a given row just if its initial value for the original column matches the new column. Check out [this resource](https://hackernoon.com/what-is-one-hot-encoding-why-and-when-do-you-have-to-use-it-e3c6186d008f) if you haven't seen one-hot-encoding before. \n",
        "\n",
        "**Note**: We will do this before we do our train/test split as to do it after could mean that some categories only end up in the train or test split of our data by chance and this would then lead to different shapes of data for our `X_train` and `X_test` which could/would cause downstream issues when fitting or predicting using a trained model."
      ]
    },
    {
      "cell_type": "code",
      "metadata": {
        "id": "xXHGDZkZDuWW"
      },
      "source": [
        "# One-hot encode all features in X.\n",
        "_ _ _ "
      ],
      "execution_count": null,
      "outputs": []
    },
    {
      "cell_type": "markdown",
      "metadata": {
        "id": "Jdn_dHlkDuWS"
      },
      "source": [
        "### 6. Further divide those subsets into train and test subsets for X and y respectively: X_train, X_test, y_train, y_test"
      ]
    },
    {
      "cell_type": "code",
      "metadata": {
        "id": "RqbHQza-DuWT"
      },
      "source": [
        "# Call train_test_split on X, y. Make the test_size = 0.25, and random_state = 246\n",
        "_ _ _ "
      ],
      "execution_count": null,
      "outputs": []
    },
    {
      "cell_type": "markdown",
      "metadata": {
        "id": "nqvyCX-6DuWb"
      },
      "source": [
        "# 3. Modelling\n",
        "It's useful to look at the scikit-learn documentation on decision trees https://scikit-learn.org/stable/modules/tree.html before launching into applying them. If you haven't seen them before, take a look at that link, in particular the section `1.10.5.` "
      ]
    },
    {
      "cell_type": "markdown",
      "metadata": {
        "id": "RIm9IN5HDuWc"
      },
      "source": [
        "## Model 1: Entropy model - no max_depth\n",
        "\n",
        "We'll give you a little more guidance here, as the Python is hard to deduce, and scikitlearn takes some getting used to.\n",
        "\n",
        "Theoretically, let's remind ourselves of what's going on with a decision tree implementing an entropy model.\n",
        "\n",
        "Ross Quinlan's **ID3 Algorithm** was one of the first, and one of the most basic, to use entropy as a metric.\n",
        "\n",
        "**Entropy** is a measure of how uncertain we are about which category the data-points fall into at a given point in the tree. The **Information gain** of a specific feature with a threshold (such as 'spent_last_month <= 138.0') is the difference in entropy that exists before and after splitting on that feature; i.e., the information we gain about the categories of the data-points by splitting on that feature and that threshold. \n",
        "\n",
        "Naturally, we want to minimize entropy and maximize information gain. Quinlan's ID3 algorithm is designed to output a tree such that the features at each node, starting from the root, and going all the way down to the leaves, have maximial information gain. We want a tree whose leaves have elements that are *homogeneous*, that is, all of the same category. \n",
        "\n",
        "The first model will be the hardest. Persevere and you'll reap the rewards: you can use almost exactly the same code for the other models. "
      ]
    },
    {
      "cell_type": "code",
      "metadata": {
        "id": "8-gelLDgDuWc"
      },
      "source": [
        "# Declare a variable called entr_model and use tree.DecisionTreeClassifier. \n",
        "_ _ _\n",
        "\n",
        "# Call fit() on entr_model\n",
        "_ _ _ \n",
        "\n",
        "# Call predict() on entr_model with X_test passed to it, and assign the result to a variable y_pred \n",
        "_ _ _ \n",
        "\n",
        "# Call Series on our y_pred variable with the following: pd.Series(y_pred)\n",
        "_ _ _ \n",
        "\n",
        "# Check out entr_model\n",
        "entr_model"
      ],
      "execution_count": null,
      "outputs": []
    },
    {
      "cell_type": "code",
      "metadata": {
        "id": "S4FbHfWnDuWe"
      },
      "source": [
        "# Now we want to visualize the tree\n",
        "_ _ _\n",
        "\n",
        "# We can do so with export_graphviz\n",
        "_ _ _ \n",
        "\n",
        "# Alternatively for class_names use entr_model.classes_\n",
        "_ _ _"
      ],
      "execution_count": null,
      "outputs": []
    },
    {
      "cell_type": "markdown",
      "metadata": {
        "id": "dFbii4IADuWg"
      },
      "source": [
        "## Model 1: Entropy model - no max_depth: Interpretation and evaluation"
      ]
    },
    {
      "cell_type": "code",
      "metadata": {
        "id": "XRL0klK4DuWh"
      },
      "source": [
        "# Run this block for model evaluation metrics \n",
        "print(\"Model Entropy - no max depth\")\n",
        "print(\"Accuracy:\", metrics.accuracy_score(y_test,y_pred))\n",
        "print(\"Balanced accuracy:\", metrics.balanced_accuracy_score(y_test,y_pred))\n",
        "print('Precision score for \"Yes\"' , metrics.precision_score(y_test,y_pred, pos_label = \"YES\"))\n",
        "print('Precision score for \"No\"' , metrics.precision_score(y_test,y_pred, pos_label = \"NO\"))\n",
        "print('Recall score for \"Yes\"' , metrics.recall_score(y_test,y_pred, pos_label = \"YES\"))\n",
        "print('Recall score for \"No\"' , metrics.recall_score(y_test,y_pred, pos_label = \"NO\"))"
      ],
      "execution_count": null,
      "outputs": []
    },
    {
      "cell_type": "markdown",
      "metadata": {
        "id": "icGOPFQ_DuWj"
      },
      "source": [
        "What can you infer from these results? Write your conclusions here:"
      ]
    },
    {
      "cell_type": "markdown",
      "metadata": {
        "id": "MHipdpfxDuWk"
      },
      "source": [
        "## Model 2: Gini impurity model - no max_depth\n",
        "\n",
        "Gini impurity, like entropy, is a measure of how well a given feature (and threshold) splits the data into categories.\n",
        "\n",
        "Their equations are similar, but Gini impurity doesn't require logorathmic functions, which can be computationally expensive. "
      ]
    },
    {
      "cell_type": "code",
      "metadata": {
        "id": "FyBljeIpDuWl"
      },
      "source": [
        "# Make a variable called gini_model, and assign it exactly what you assigned entr_model with above, but with the\n",
        "# criterion changed to 'gini'\n",
        "_ _ _ \n",
        "\n",
        "# Call fit() on the gini_model as you did with the entr_model\n",
        "_ _ _ \n",
        "\n",
        "# Call predict() on the gini_model as you did with the entr_model \n",
        "_ _ _ \n",
        "\n",
        "# Turn y_pred into a series, as before\n",
        "_ _ _ \n",
        "\n",
        "# Check out gini_model\n",
        "_ _ _ "
      ],
      "execution_count": null,
      "outputs": []
    },
    {
      "cell_type": "code",
      "metadata": {
        "id": "d20SMUmgDuWo"
      },
      "source": [
        "# As before, but make the model name gini_model\n",
        "_ _ _ \n",
        "_ _ _ \n",
        "\n",
        "# Alternatively for class_names use gini_model.classes_\n",
        "_ _ _ "
      ],
      "execution_count": null,
      "outputs": []
    },
    {
      "cell_type": "code",
      "metadata": {
        "id": "T0RadBy0DuWp"
      },
      "source": [
        "# Run this block for model evaluation\n",
        "print(\"Model Gini impurity model\")\n",
        "print(\"Accuracy:\", metrics.accuracy_score(y_test,y_pred))\n",
        "print(\"Balanced accuracy:\", metrics.balanced_accuracy_score(y_test,y_pred))\n",
        "print('Precision score' , metrics.precision_score(y_test,y_pred, pos_label = \"YES\"))\n",
        "print('Recall score' , metrics.recall_score(y_test,y_pred, pos_label = \"NO\"))"
      ],
      "execution_count": null,
      "outputs": []
    },
    {
      "cell_type": "markdown",
      "metadata": {
        "id": "LR5LkC_yDuWs"
      },
      "source": [
        "How do the results here compare to the previous model? Write your judgements here: "
      ]
    },
    {
      "cell_type": "markdown",
      "metadata": {
        "id": "3PctBjTADuWs"
      },
      "source": [
        "## Model 3: Entropy model - max depth 3\n",
        "We're going to try to limit the depth of our decision tree, using entropy first.  \n",
        "\n",
        "As you know, we need to strike a balance with tree depth. \n",
        "\n",
        "Insufficiently deep, and we're not giving the tree the opportunity to spot the right patterns in the training data.\n",
        "\n",
        "Excessively deep, and we're probably going to make a tree that overfits to the training data, at the cost of very high error on the (hitherto unseen) test data. \n",
        "\n",
        "Sophisticated data scientists use methods like random search with cross-validation to systematically find a good depth for their tree. We'll start with picking 3, and see how that goes. "
      ]
    },
    {
      "cell_type": "code",
      "metadata": {
        "id": "cMiPjWClDuWt"
      },
      "source": [
        "# Made a model as before, but call it entr_model2, and make the max_depth parameter equal to 3. \n",
        "# Execute the fitting, predicting, and Series operations as before\n",
        "_ _ _"
      ],
      "execution_count": null,
      "outputs": []
    },
    {
      "cell_type": "code",
      "metadata": {
        "id": "IRuw72VMDuWv"
      },
      "source": [
        "# As before, we need to visualize the tree to grasp its nature\n",
        "_ _ _ \n",
        "\n",
        "# Alternatively for class_names use entr_model2.classes_\n",
        "_ _ _"
      ],
      "execution_count": null,
      "outputs": []
    },
    {
      "cell_type": "code",
      "metadata": {
        "id": "29f4vmmMDuWy"
      },
      "source": [
        "# Run this block for model evaluation \n",
        "print(\"Model Entropy model max depth 3\")\n",
        "print(\"Accuracy:\", metrics.accuracy_score(y_test,y_pred))\n",
        "print(\"Balanced accuracy:\", metrics.balanced_accuracy_score(y_test,y_pred))\n",
        "print('Precision score for \"Yes\"' , metrics.precision_score(y_test,y_pred, pos_label = \"YES\"))\n",
        "print('Recall score for \"No\"' , metrics.recall_score(y_test,y_pred, pos_label = \"NO\"))"
      ],
      "execution_count": null,
      "outputs": []
    },
    {
      "cell_type": "markdown",
      "metadata": {
        "id": "AG7S2YgUDuW4"
      },
      "source": [
        "So our accuracy decreased, but is this certainly an inferior tree to the max depth original tree we did with Model 1? Write your conclusions here: "
      ]
    },
    {
      "cell_type": "markdown",
      "metadata": {
        "id": "FZTl4W3wDuW4"
      },
      "source": [
        "## Model 4: Gini impurity  model - max depth 3\n",
        "We're now going to try the same with the Gini impurity model. "
      ]
    },
    {
      "cell_type": "code",
      "metadata": {
        "id": "FJK1bkG3DuW5"
      },
      "source": [
        "# As before, make a variable, but call it gini_model2, and ensure the max_depth parameter is set to 3\n",
        "_ _ _ = _ _ _._ _ _(_ _ _ ='_ _ _ ', _ _ _ = 1234, _ _ _  = _ _ _ )\n",
        "\n",
        "# Do the fit, predict, and series transformations as before. \n",
        "_ _ _"
      ],
      "execution_count": null,
      "outputs": []
    },
    {
      "cell_type": "code",
      "metadata": {
        "id": "_UIWhKZBDuW7"
      },
      "source": [
        "dot_data = StringIO()\n",
        "_ _ _ \n",
        "\n",
        "\n",
        "# Alternatively for class_names use gini_model2.classes_\n",
        "_ _ _"
      ],
      "execution_count": null,
      "outputs": []
    },
    {
      "cell_type": "code",
      "metadata": {
        "id": "R4t7e9-GDuW9"
      },
      "source": [
        "print(\"Gini impurity  model - max depth 3\")\n",
        "print(\"Accuracy:\", metrics.accuracy_score(y_test,y_pred))\n",
        "print(\"Balanced accuracy:\", metrics.balanced_accuracy_score(y_test,y_pred))\n",
        "print('Precision score' , metrics.precision_score(y_test,y_pred, pos_label = \"YES\"))\n",
        "print('Recall score' , metrics.recall_score(y_test,y_pred, pos_label = \"NO\"))"
      ],
      "execution_count": null,
      "outputs": []
    },
    {
      "cell_type": "markdown",
      "metadata": {
        "id": "UzGThBXSDuW-"
      },
      "source": [
        "Now this is an elegant tree. Its accuracy might not be the highest, but it's still the best model we've produced so far. Why is that? Write your answer here: "
      ]
    },
    {
      "cell_type": "markdown",
      "metadata": {
        "id": "jS1niFlCDuW_"
      },
      "source": [
        "# 4. Evaluating and concluding\n",
        "## 4a. How many customers will buy Hidden Farm coffee? \n",
        "Let's first ascertain how many loyal customers claimed, in the survey, that they will purchase the Hidden Farm coffee. "
      ]
    },
    {
      "cell_type": "code",
      "metadata": {
        "id": "QPHXnHZvDuXC"
      },
      "source": [
        "# Call value_counts() on the 'Decision' column of the original coffeeData\n",
        "_ _ _ "
      ],
      "execution_count": null,
      "outputs": []
    },
    {
      "cell_type": "markdown",
      "metadata": {
        "id": "kw_5g_ZEDuXD"
      },
      "source": [
        "Let's now determine the number of people that, according to the model, will be willing to buy the Hidden Farm coffee. \n",
        "1. First we subset the Prediction dataset into `new_X` considering all the variables except `Decision` \n",
        "2. Use that dataset to predict a new variable called `potential_buyers`"
      ]
    },
    {
      "cell_type": "code",
      "metadata": {
        "id": "mwypR8ymDuXE"
      },
      "source": [
        "# Feature selection\n",
        "# Make a variable called feature_cols, and assign it a list containing all the column names except 'Decision'\n",
        "_ _ _ \n",
        "\n",
        "# Make a variable called new_X, and assign it the subset of Prediction, containing just the feature_cols \n",
        "_ _ _ "
      ],
      "execution_count": null,
      "outputs": []
    },
    {
      "cell_type": "code",
      "metadata": {
        "id": "0ajvbeRSDuXG"
      },
      "source": [
        "# Call get_dummies() on the Pandas object pd, with new_X plugged in, to one-hot encode all features in the training set\n",
        "_ _ _ \n",
        "\n",
        "# Make a variable called potential_buyers, and assign it the result of calling predict() on a model of your choice; \n",
        "# don't forget to pass new_X to predict()\n",
        "_ _ _ "
      ],
      "execution_count": null,
      "outputs": []
    },
    {
      "cell_type": "code",
      "metadata": {
        "id": "-MO_KWT9DuXI"
      },
      "source": [
        "# Let's get the numbers of YES's and NO's in the potential buyers \n",
        "# Call unique() on np, and pass potential_buyers and return_counts=True \n",
        "_ _ _ "
      ],
      "execution_count": null,
      "outputs": []
    },
    {
      "cell_type": "markdown",
      "metadata": {
        "id": "3CB7HbiTDuXJ"
      },
      "source": [
        "The total number of potential buyers is 303 + 183 = 486"
      ]
    },
    {
      "cell_type": "code",
      "metadata": {
        "id": "9EGFQcTuDuXK"
      },
      "source": [
        "# Print the total number of surveyed people \n",
        "_ _ _ "
      ],
      "execution_count": null,
      "outputs": []
    },
    {
      "cell_type": "code",
      "metadata": {
        "id": "22_KRMX4DuXM"
      },
      "source": [
        "# Let's calculate the proportion of buyers\n",
        "_ _ _ "
      ],
      "execution_count": null,
      "outputs": []
    },
    {
      "cell_type": "code",
      "metadata": {
        "id": "xLMCDMpmDuXO"
      },
      "source": [
        "# Print the percentage of people who want to buy the Hidden Farm coffee, by our model \n",
        "_ _ _ "
      ],
      "execution_count": null,
      "outputs": []
    },
    {
      "cell_type": "markdown",
      "metadata": {
        "id": "9bRDyi6rDuXQ"
      },
      "source": [
        "## 4b. Decision\n",
        "Remember how you thought at the start: if more than 70% of the interviewed customers are likely to buy the Hidden Farm coffee, you will strike the deal with the local Hidden Farm farmers and sell the coffee. Otherwise, you won't strike the deal and the Hidden Farm coffee will remain in legends only. Well now's crunch time. Are you going to go ahead with that idea? If so, you won't be striking the deal with the Chinese farmers. \n",
        "\n",
        "They're called `decision trees`, aren't they? So where's the decision? What should you do? (Cue existential cat emoji). \n",
        "\n",
        "Ultimately, though, we can't write an algorithm to actually *make the business decision* for us. This is because such decisions depend on our values, what risks we are willing to take, the stakes of our decisions, and how important it us for us to *know* that we will succeed. What are you going to do with the models you've made? Are you going to risk everything, strike the deal with the *Hidden Farm* farmers, and sell the coffee? \n",
        "\n",
        "The philosopher of language Jason Stanley once wrote that the number of doubts our evidence has to rule out in order for us to know a given proposition depends on our stakes: the higher our stakes, the more doubts our evidence has to rule out, and therefore the harder it is for us to know things. We can end up paralyzed in predicaments; sometimes, we can act to better our situation only if we already know certain things, which we can only if our stakes were lower and we'd *already* bettered our situation. \n",
        "\n",
        "Data science and machine learning can't solve such problems. But what it can do is help us make great use of our data to help *inform* our decisions."
      ]
    },
    {
      "cell_type": "markdown",
      "metadata": {
        "id": "crWWrpdox8i-"
      },
      "source": [
        "## 5. Random Forest\n",
        "You might have noticed an important fact about decision trees. Each time we run a given decision tree algorithm to make a prediction (such as whether customers will buy the Hidden Farm coffee) we will actually get a slightly different result. This might seem weird, but it has a simple explanation: machine learning algorithms are by definition ***stochastic***, in that their output is at least partly determined by randomness. \n",
        "\n",
        "To account for this variability and ensure that we get the most accurate prediction, we might want to actually make lots of decision trees, and get a value that captures the centre or average of the outputs of those trees. Luckily, there's a method for this, known as the ***Random Forest***. \n",
        "\n",
        "Essentially, Random Forest involves making lots of trees with similar properties, and then performing summary statistics on the outputs of those trees to reach that central value. Random forests are hugely powerful classifers, and they can improve predictive accuracy and control over-fitting. \n",
        "\n",
        "Why not try to inform your decision with random forest? You'll need to make use of the RandomForestClassifier function within the sklearn.ensemble module, found [here](https://scikit-learn.org/stable/modules/generated/sklearn.ensemble.RandomForestClassifier.html). "
      ]
    },
    {
      "cell_type": "markdown",
      "metadata": {
        "id": "fI4fiVWq0IH9"
      },
      "source": [
        "### 5a. Import necessary modules"
      ]
    },
    {
      "cell_type": "code",
      "metadata": {
        "id": "vSRTnHnD0D-O"
      },
      "source": [
        "from sklearn.ensemble import RandomForestClassifier\n",
        "from sklearn.datasets import make_classification"
      ],
      "execution_count": null,
      "outputs": []
    },
    {
      "cell_type": "markdown",
      "metadata": {
        "id": "jKmFvvjb0WB9"
      },
      "source": [
        "### 5b. Model\n",
        "You'll use your X_train and y_train variables just as before.\n",
        "\n",
        "You'll then need to make a variable (call it firstRFModel) to store your new Random Forest model. You'll assign this variable the result of calling RandomForestClassifier().\n",
        "\n",
        "Then, just as before, you'll call fit() on that firstRFModel variable, and plug in X_train and y_train.\n",
        "\n",
        "Finally, you should make a variable called y_pred, and assign it the result of calling the predict() method on your new firstRFModel, with the X_test data passed to it. "
      ]
    },
    {
      "cell_type": "code",
      "metadata": {
        "id": "OQEeTiRG1aSm"
      },
      "source": [
        "# Plug in appropriate max_depth and random_state parameters \n",
        "_ _ _ \n",
        "\n",
        "# Model and fit\n",
        "_ _ _ \n",
        "\n",
        "\n"
      ],
      "execution_count": null,
      "outputs": []
    },
    {
      "cell_type": "markdown",
      "metadata": {
        "id": "sCIt6pyn1zpb"
      },
      "source": [
        "### 5c. Revise conclusion\n",
        "\n",
        "Has your conclusion changed? Or is the result of executing random forest the same as your best model reached by a single decision tree? "
      ]
    }
  ]
}